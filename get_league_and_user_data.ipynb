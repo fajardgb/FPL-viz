{
 "cells": [
  {
   "cell_type": "code",
   "execution_count": null,
   "metadata": {},
   "outputs": [],
   "source": [
    "import requests\n",
    "import json\n",
    "import pandas as pd\n",
    "import statistics\n",
    "import os\n",
    "import pickle"
   ]
  },
  {
   "cell_type": "markdown",
   "metadata": {},
   "source": [
    "# Get league data"
   ]
  },
  {
   "cell_type": "markdown",
   "metadata": {},
   "source": [
    "To get league ID: Fantasy -> Leagues and Cups -> select your league\n",
    "\n",
    "league_id = numbers before \"/standings/\" in the URL\n",
    "\n",
    "ie: for my league, the URL is https://fantasy.premierleague.com/leagues/736795/standings/c, so my league ID would be \"736795\"."
   ]
  },
  {
   "cell_type": "code",
   "execution_count": null,
   "metadata": {},
   "outputs": [],
   "source": [
    "def save_league_data(league_id):\n",
    "    '''\n",
    "    Function to save Fantasy Premier League data for a specific league.\n",
    "    \n",
    "    Parameters:\n",
    "    - league_id: The ID of the league to fetch data for.\n",
    "    \n",
    "    The function fetches the league data from the FPL API and saves it as a JSON file in a directory named \"league_<league_id>\".\n",
    "    '''\n",
    "        \n",
    "    league_id = str(league_id)\n",
    "\n",
    "    # create main and save_dir\n",
    "    main_dir = f\"league_{league_id}\"\n",
    "    if not os.path.exists(main_dir):\n",
    "        os.makedirs(main_dir)\n",
    "\n",
    "    save_dir = f\"league_{league_id}/league_data\"\n",
    "    if not os.path.exists(save_dir):\n",
    "        os.makedirs(save_dir)\n",
    "\n",
    "    # fetch league data from API using this URL\n",
    "    # to get league ID: Fantasy -> Leagues and Cups -> {your_league}...\n",
    "    # league_id = numbers before \"/standings/\" in the URL\n",
    "    url = f\"https://fantasy.premierleague.com/api/leagues-classic/{league_id}/standings/\"\n",
    "    \n",
    "    # send a GET request to the URL\n",
    "    response = requests.get(url)\n",
    "    \n",
    "    # check if the request was successful\n",
    "    if response.status_code == 200:\n",
    "        data = response.json()\n",
    "\n",
    "        # set the filename with league_id \n",
    "        file_name = f\"{save_dir}/league_{league_id}_data.json\"\n",
    "        \n",
    "        # Write the JSON data to a file\n",
    "        with open(file_name, 'w') as file:\n",
    "            json.dump(data, file, indent=4)\n",
    "        \n",
    "        print(f\"Data saved successfully in {file_name}\")\n",
    "    else:\n",
    "        print(f\"Failed to fetch data: HTTP {response.status_code}\")"
   ]
  },
  {
   "cell_type": "markdown",
   "metadata": {},
   "source": [
    "This function will make a new folder for all of your league's data! The name of this folder will be *league_{league_id}*. All subsequent data and output will be saved to this folder. "
   ]
  },
  {
   "cell_type": "code",
   "execution_count": null,
   "metadata": {},
   "outputs": [],
   "source": [
    "# Example usage\n",
    "league_id = '736795' ## CHANGE ME to your league's ID \n",
    "save_league_data(league_id)"
   ]
  },
  {
   "cell_type": "markdown",
   "metadata": {},
   "source": [
    "# Get user data from league"
   ]
  },
  {
   "cell_type": "code",
   "execution_count": null,
   "metadata": {},
   "outputs": [],
   "source": [
    "def get_users(league_id):\n",
    "    f = open(f'league_{league_id}/league_data/league_{league_id}_data.json')\n",
    "    \n",
    "    # returns JSON object as a dictionary\n",
    "    data = json.load(f)\n",
    "\n",
    "    # Extract results\n",
    "    results = data['standings']['results']\n",
    "\n",
    "    # List of user IDs\n",
    "    user_ids = [result['entry'] for result in results]\n",
    "    print(\"List of user_ids:\", user_ids)\n",
    "\n",
    "    # Dictionary mapping entry to player name\n",
    "    entry_to_player = {result['entry']: result['player_name'] for result in results}\n",
    "    print(\"Entry to Player Name Mapping:\", entry_to_player)\n",
    "\n",
    "    # Specify the file path\n",
    "    pickle_file_path = f\"league_{league_id}/league_data/league_{league_id}_entry_to_player_dict.pickle\"\n",
    "\n",
    "    # Save the dictionary as a pickle file\n",
    "    with open(pickle_file_path, 'wb') as file:\n",
    "        pickle.dump(entry_to_player, file)\n",
    "\n",
    "    print(f\"Entry to Player Mapping dictionary saved successfully as {pickle_file_path}\")\n",
    "\n",
    "    return user_ids\n"
   ]
  },
  {
   "cell_type": "markdown",
   "metadata": {},
   "source": [
    "This function will save a dictionary mapping of user name -> user ID, in pickle format. "
   ]
  },
  {
   "cell_type": "code",
   "execution_count": null,
   "metadata": {},
   "outputs": [],
   "source": [
    "# Example usage\n",
    "get_users(league_id)"
   ]
  },
  {
   "cell_type": "markdown",
   "metadata": {},
   "source": [
    "# Get GW history for each user in the league (standings across time)"
   ]
  },
  {
   "cell_type": "code",
   "execution_count": null,
   "metadata": {},
   "outputs": [],
   "source": [
    "def fetch_and_save_history(entry_to_player_mapping):\n",
    "\n",
    "    # create the save directory\n",
    "    save_dir = f\"league_{league_id}/league_data\"\n",
    "    if not os.path.exists(save_dir):\n",
    "        os.makedirs(save_dir)\n",
    "\n",
    "    # fetch the history data for each player\n",
    "    for entry, player_name in entry_to_player_mapping.items():\n",
    "        url = f\"https://fantasy.premierleague.com/api/entry/{entry}/history/\"\n",
    "        response = requests.get(url)\n",
    "        if response.status_code == 200:\n",
    "            data = response.json()\n",
    "            file_name = f\"{save_dir}/{player_name.replace(' ', '_')}_{entry}_history.json\"\n",
    "            with open(file_name, 'w') as file:\n",
    "                json.dump(data, file, indent=4)\n",
    "            print(f\"Data saved for {player_name} as {file_name}\")\n",
    "        else:\n",
    "            print(f\"FAILED to fetch data for {player_name} (entry {entry}), \\nstatus code: {response.status_code}\")\n",
    "\n",
    "def get_gw_history_df(league_id, entry_to_player_mapping, save_dir=f'league_{league_id}/league_data/league_{league_id}_gw_history_df.csv'):\n",
    "    user_data_dir = f\"league_{league_id}/user_data\"\n",
    "\n",
    "    # first, get the number of current gameweeks\n",
    "    N_GWs = []\n",
    "\n",
    "    for entry, player_name in entry_to_player_mapping.items():\n",
    "        file_name = f\"{user_data_dir}/{player_name.replace(' ', '_')}_{entry}_history.json\"\n",
    "        with open(file_name) as file:\n",
    "            data = json.load(file)\n",
    "        history = data['current']\n",
    "        N_GWs.append(len(history))\n",
    "\n",
    "    # get the total number of current GWs (using mode, or can do max)\n",
    "    N_GWs = statistics.mode(N_GWs)\n",
    "\n",
    "    # create blank df with gws\n",
    "    gws = [f'GW{gw}' for gw in range(1,N_GWs+1)]\n",
    "\n",
    "    gw_history_df = pd.DataFrame(columns=['GW'])\n",
    "    gw_history_df['GW'] = gws\n",
    "\n",
    "    # create the GW scoring history table\n",
    "    for entry, player_name in entry_to_player_mapping.items():\n",
    "        file_name = f\"{user_data_dir}/{player_name.replace(' ', '_')}_{entry}_history.json\"\n",
    "        with open(file_name) as file:\n",
    "            data = json.load(file)\n",
    "\n",
    "        history = data['current']\n",
    "\n",
    "        cum_points = 0\n",
    "        tot_points = []\n",
    "        for game in history:\n",
    "            points = game['points']\n",
    "            cum_points += points\n",
    "            tot_points.append(cum_points)\n",
    "        # Jacques missed GW 1! ... adjust for num points he got (84)\n",
    "        if player_name == 'Jacques Hughes':\n",
    "            tot_points.insert(0, 84)\n",
    "        \n",
    "        # add cumulative sum of GWs for each player to df\n",
    "        # this is the format for the bar_chart_race!\n",
    "        gw_history_df[player_name] = tot_points\n",
    "    \n",
    "    # save the df\n",
    "    gw_history_df.to_csv(save_dir)"
   ]
  },
  {
   "cell_type": "markdown",
   "metadata": {},
   "source": [
    "The ```fetch_and_save_history``` function will save each individual users data across time to the *league_{league_id}/user_data* folder. "
   ]
  },
  {
   "cell_type": "code",
   "execution_count": null,
   "metadata": {},
   "outputs": [],
   "source": [
    "# load the Entry to Player Mapping dictionary\n",
    "with open(rf\"league_{league_id}/league_data/league_{league_id}_entry_to_player_dict.pickle\", \"rb\") as entry_to_player_mapping:\n",
    "    entry_to_player_mapping = pickle.load(entry_to_player_mapping)\n",
    "\n",
    "fetch_and_save_history(entry_to_player_mapping) "
   ]
  },
  {
   "cell_type": "markdown",
   "metadata": {},
   "source": [
    "The ```get_gw_history_df``` function will make a df of this user history data. It will be saved to the *league_{league_id}* folder. "
   ]
  },
  {
   "cell_type": "code",
   "execution_count": null,
   "metadata": {},
   "outputs": [],
   "source": [
    "get_gw_history_df(league_id, entry_to_player_mapping)"
   ]
  }
 ],
 "metadata": {
  "language_info": {
   "name": "python"
  }
 },
 "nbformat": 4,
 "nbformat_minor": 2
}
