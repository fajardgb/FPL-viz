{
 "cells": [
  {
   "cell_type": "code",
   "execution_count": 1,
   "metadata": {},
   "outputs": [],
   "source": [
    "import requests\n",
    "import json\n",
    "import matplotlib.pyplot as plt\n",
    "import pickle\n",
    "from collections import Counter\n",
    "import os"
   ]
  },
  {
   "cell_type": "markdown",
   "metadata": {},
   "source": [
    "First, let's set the league_id and current GW"
   ]
  },
  {
   "cell_type": "code",
   "execution_count": 3,
   "metadata": {},
   "outputs": [],
   "source": [
    "league_id = '736795' ##CHANGE ME to your league's ID \n",
    "GW='38'"
   ]
  },
  {
   "cell_type": "markdown",
   "metadata": {},
   "source": [
    "# Gameweek specific info\n",
    "- chip usage\n",
    "- captaincy\n",
    "- most owned players"
   ]
  },
  {
   "cell_type": "markdown",
   "metadata": {},
   "source": [
    "First, we need to get the ID->Name and ID->Price mapping for all players"
   ]
  },
  {
   "cell_type": "code",
   "execution_count": 3,
   "metadata": {},
   "outputs": [],
   "source": [
    "# Send a GET request to the FPL website\n",
    "url = 'https://fantasy.premierleague.com/api/bootstrap-static/'\n",
    "response = requests.get(url)\n",
    "data = response.json()\n",
    "\n",
    "all_players = data['elements']\n",
    "\n",
    "player_to_id_mapping = {}\n",
    "\n",
    "for player in all_players:\n",
    "    player_id = player['id']\n",
    "    player_name = player['web_name']\n",
    "    player_price = player['now_cost']\n",
    "\n",
    "    player_to_id_mapping[player_id] = player_name\n",
    "\n",
    "    # save dict with pickle\n",
    "    with open(f\"player_to_id_mapping.pickle\", 'wb') as file:\n",
    "        pickle.dump(player_to_id_mapping, file)"
   ]
  },
  {
   "cell_type": "markdown",
   "metadata": {},
   "source": [
    "# Current GW active chips"
   ]
  },
  {
   "cell_type": "code",
   "execution_count": 15,
   "metadata": {},
   "outputs": [],
   "source": [
    "def plot_active_chips(user_ids, GW, save_dir=f'league_{league_id}/output/GW{GW}/active_chips_GW{GW}.png'):\n",
    "\n",
    "    # to store active chips\n",
    "    active_chips = []\n",
    "\n",
    "    # fetch the chip data for each user\n",
    "    for user_id in user_ids:\n",
    "        url = f\"https://fantasy.premierleague.com/api/entry/{user_id}/event/{GW}/picks/\"\n",
    "        response = requests.get(url)\n",
    "        if response.status_code == 200:\n",
    "            data = response.json()\n",
    "            chip = data['active_chip']\n",
    "            if chip:\n",
    "                active_chips.append(chip)\n",
    "\n",
    "    # plot active chips\n",
    "    plt.figure(figsize=(4, 2))\n",
    "    plt.bar(active_chips, [active_chips.count(chip) for chip in active_chips])\n",
    "    plt.xlabel(f'Chips')\n",
    "    plt.ylabel('Count')\n",
    "    plt.title(f'Active Chips for GW{GW}')\n",
    "    if save_dir:\n",
    "        if not os.path.exists(save_dir):\n",
    "            os.makedirs(save_dir)\n",
    "        plt.savefig(save_dir)\n",
    "    plt.show()\n"
   ]
  },
  {
   "cell_type": "code",
   "execution_count": 4,
   "metadata": {},
   "outputs": [],
   "source": [
    "# first, lets get the user IDs\n",
    "with open(rf\"league_{league_id}/league_data/league_{league_id}_entry_to_player_dict.pickle\", \"rb\") as entry_to_player_mapping:\n",
    "    entry_to_player_mapping = pickle.load(entry_to_player_mapping)\n",
    "\n",
    "user_ids = list(entry_to_player_mapping.keys())"
   ]
  },
  {
   "cell_type": "code",
   "execution_count": null,
   "metadata": {},
   "outputs": [],
   "source": [
    "plot_active_chips(user_ids, GW, save_dir=f'league_{league_id}/output/GW{GW}/active_chips_GW{GW}.png')"
   ]
  },
  {
   "cell_type": "markdown",
   "metadata": {},
   "source": [
    "![active_chips](../imgs/active_chips.png)"
   ]
  },
  {
   "cell_type": "markdown",
   "metadata": {},
   "source": [
    "# Captaincy for current GW"
   ]
  },
  {
   "cell_type": "code",
   "execution_count": 12,
   "metadata": {},
   "outputs": [],
   "source": [
    "def plot_captaincy(user_ids, GW, save_dir=f'league_{league_id}/output/GW{GW}/captaincy_GW{GW}.png'):\n",
    "    # to store captains\n",
    "    captains = []\n",
    "\n",
    "    # fetch the team data for each user\n",
    "    for user_id in user_ids:\n",
    "        url = f\"https://fantasy.premierleague.com/api/entry/{user_id}/event/{GW}/picks/\"\n",
    "        response = requests.get(url)\n",
    "        if response.status_code == 200:\n",
    "            data = response.json()\n",
    "            picks = data['picks']\n",
    "\n",
    "            for pick in picks:\n",
    "                if pick['is_captain']==True:\n",
    "                    player_id = pick['element']\n",
    "                    player_name = player_to_id_mapping[player_id]\n",
    "                    captains.append(player_name)\n",
    "\n",
    "    # make it an ordered list\n",
    "    captain_counts = Counter(captains)\n",
    "    sorted_captains = sorted(captain_counts.items(), key=lambda x: x[1], reverse=True)\n",
    "    captains, counts = zip(*sorted_captains)\n",
    "    \n",
    "    # plot captains count\n",
    "    plt.figure(figsize=(6, 4))\n",
    "    plt.bar(captains, counts)\n",
    "    plt.xlabel(f'Captains')\n",
    "    plt.ylabel('Count')\n",
    "    plt.title(f'Captains for GW{GW}')\n",
    "    plt.xticks(rotation=30)\n",
    "    if save_dir:\n",
    "        if not os.path.exists(save_dir):\n",
    "            os.makedirs(save_dir)\n",
    "        plt.savefig(save_dir)\n",
    "    plt.show()"
   ]
  },
  {
   "cell_type": "code",
   "execution_count": null,
   "metadata": {},
   "outputs": [],
   "source": [
    "plot_captaincy(user_ids, GW, save_dir=f'league_{league_id}/output/GW{GW}/captaincy_GW{GW}.png')"
   ]
  },
  {
   "cell_type": "markdown",
   "metadata": {},
   "source": [
    "![captaincy](../imgs/captaincy.png)"
   ]
  },
  {
   "cell_type": "markdown",
   "metadata": {},
   "source": [
    "# Get % ownership"
   ]
  },
  {
   "cell_type": "code",
   "execution_count": 19,
   "metadata": {},
   "outputs": [],
   "source": [
    "def plot_most_owned(user_ids, GW, N_most_owned=10, save_dir=f'league_{league_id}/output/GW{GW}/most_owned_GW{GW}.png'):\n",
    "\n",
    "    \"\"\"\n",
    "    Plots the most owned players for a given gameweek (GW) among a list of user IDs and saves the plot as an image.\n",
    "\n",
    "    Parameters:\n",
    "    user_ids (list): List of user IDs.\n",
    "    GW (int): Gameweek number.\n",
    "    N_most_owned (int, optional): Number of top owned players to display. Default is 10.\n",
    "    save_dir (str, optional): Directory path where the plot image will be saved. Default is 'league_{league_id}/most_owned_GW{GW}.png'.\n",
    "\n",
    "    Returns:\n",
    "    None\n",
    "    \"\"\"\n",
    "        \n",
    "    # to store all owned players\n",
    "    players = []\n",
    "\n",
    "    # fetch the team data for each user\n",
    "    for user_id in user_ids:\n",
    "        url = f\"https://fantasy.premierleague.com/api/entry/{user_id}/event/{GW}/picks/\"\n",
    "        response = requests.get(url)\n",
    "        if response.status_code == 200:\n",
    "            data = response.json()\n",
    "            picks = data['picks']\n",
    "\n",
    "            for pick in picks:\n",
    "                player_id = pick['element']\n",
    "                player_name = player_to_id_mapping[player_id]\n",
    "                players.append(player_name)\n",
    "\n",
    "    # get the top N most owned players, and their percentages\n",
    "    player_counts = Counter(players)\n",
    "    top_N_players = player_counts.most_common(N_most_owned)\n",
    "    player_names, counts = zip(*top_N_players)\n",
    "    percent_owned = [count / len(user_ids) for count in counts]\n",
    "\n",
    "    # Plot the data\n",
    "    plt.figure(figsize=(10, 6))\n",
    "    bars = plt.bar(player_names, percent_owned, color='skyblue')\n",
    "    plt.xlabel('Player')\n",
    "    plt.ylabel('% Owned')\n",
    "    plt.title(f'Most Owned Players for GW{GW}')\n",
    "    plt.xticks(rotation=45)\n",
    "\n",
    "    # Add percentage on top of each bar\n",
    "    for bar, percent in zip(bars, percent_owned):\n",
    "        yval = bar.get_height()\n",
    "        plt.text(bar.get_x() + bar.get_width() / 2, yval, f'{int(percent * 100)}%', ha='center', va='bottom')\n",
    "\n",
    "    if save_dir:\n",
    "        if not os.path.exists(save_dir):\n",
    "            os.makedirs(save_dir)\n",
    "        plt.savefig(save_dir)\n",
    "    plt.show()"
   ]
  },
  {
   "cell_type": "code",
   "execution_count": null,
   "metadata": {},
   "outputs": [],
   "source": [
    "plot_most_owned(user_ids, GW, N_most_owned=10, save_dir=f'league_{league_id}/output/GW{GW}/most_owned_GW{GW}.png')"
   ]
  },
  {
   "cell_type": "markdown",
   "metadata": {},
   "source": [
    "![most_owned](../imgs/most_owned.png)"
   ]
  },
  {
   "cell_type": "markdown",
   "metadata": {},
   "source": [
    "# Get top N chips, captain, and squad"
   ]
  },
  {
   "cell_type": "code",
   "execution_count": null,
   "metadata": {},
   "outputs": [],
   "source": [
    "def get_top_N(league_id, N):\n",
    "    '''\n",
    "    Fetches the top N user IDs in a league.\n",
    "\n",
    "    Parameters:\n",
    "    league_id (str): ID of league\n",
    "    N (int): The top N users to fetch\n",
    "    '''\n",
    "\n",
    "    url = f\"https://fantasy.premierleague.com/api/leagues-classic/{league_id}/standings/\"\n",
    "    response = requests.get(url)\n",
    "    if response.status_code == 200:\n",
    "        data = response.json()\n",
    "        standings = data['standings']['results']\n",
    "        top_N = standings[:N]\n",
    "        top_N_user_ids = [entry['entry'] for entry in top_N]\n",
    "        return top_N_user_ids\n",
    "    else:\n",
    "        raise ValueError(f\"Failed to fetch data. Status code: {response.status_code}\")"
   ]
  },
  {
   "cell_type": "code",
   "execution_count": null,
   "metadata": {},
   "outputs": [],
   "source": [
    "top_3_users = get_top_N(league_id, N=3)"
   ]
  },
  {
   "cell_type": "code",
   "execution_count": null,
   "metadata": {},
   "outputs": [],
   "source": [
    "def print_top_N_captains(user_ids, GW):\n",
    "    # to store captains\n",
    "    user_captains = {}\n",
    "    \n",
    "    # fetch the team data for each user\n",
    "    for user_id in user_ids:\n",
    "        \n",
    "        # get user name\n",
    "        user_name = entry_to_player_mapping[user_id]\n",
    "\n",
    "        # get data from that user\n",
    "        url = f\"https://fantasy.premierleague.com/api/entry/{user_id}/event/{GW}/picks/\"\n",
    "        response = requests.get(url)\n",
    "        if response.status_code == 200:\n",
    "            data = response.json()\n",
    "            picks = data['picks']\n",
    "\n",
    "            for pick in picks:\n",
    "                if pick['is_captain']==True:\n",
    "                    player_id = pick['element']\n",
    "                    captain_name = player_to_id_mapping[player_id]\n",
    "                    user_captains[user_name] = captain_name\n",
    "\n",
    "    # print the data\n",
    "    for user, captain in user_captains.items():\n",
    "        print(f\"{user} picked {captain} as captain.\")"
   ]
  },
  {
   "cell_type": "code",
   "execution_count": null,
   "metadata": {},
   "outputs": [],
   "source": [
    "print_top_N_captains(top_3_users, GW)"
   ]
  },
  {
   "cell_type": "code",
   "execution_count": null,
   "metadata": {},
   "outputs": [],
   "source": [
    "def print_top_N_chips(user_ids, GW):\n",
    "    # to store chips\n",
    "    user_chips = {}\n",
    "    \n",
    "    # fetch the team data for each user\n",
    "    for user_id in user_ids:\n",
    "        \n",
    "        # get user name\n",
    "        user_name = entry_to_player_mapping[user_id]\n",
    "\n",
    "        # get data from that user\n",
    "        url = f\"https://fantasy.premierleague.com/api/entry/{user_id}/event/{GW}/picks/\"\n",
    "        response = requests.get(url)\n",
    "        if response.status_code == 200:\n",
    "            data = response.json()\n",
    "            chip = data['active_chip']\n",
    "            user_chips[user_name] = chip\n",
    "\n",
    "    # print the data\n",
    "    for user, chip in user_chips.items():\n",
    "        print(f\"{user} used the {chip} chip.\")"
   ]
  },
  {
   "cell_type": "code",
   "execution_count": null,
   "metadata": {},
   "outputs": [],
   "source": [
    "print_top_N_chips(league_id, GW)"
   ]
  }
 ],
 "metadata": {
  "kernelspec": {
   "display_name": "Python 3",
   "language": "python",
   "name": "python3"
  },
  "language_info": {
   "codemirror_mode": {
    "name": "ipython",
    "version": 3
   },
   "file_extension": ".py",
   "mimetype": "text/x-python",
   "name": "python",
   "nbconvert_exporter": "python",
   "pygments_lexer": "ipython3",
   "version": "3.11.8"
  }
 },
 "nbformat": 4,
 "nbformat_minor": 2
}
