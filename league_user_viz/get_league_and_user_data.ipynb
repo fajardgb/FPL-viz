{
 "cells": [
  {
   "cell_type": "code",
   "execution_count": 13,
   "metadata": {},
   "outputs": [],
   "source": [
    "import requests\n",
    "import json\n",
    "import pandas as pd\n",
    "import statistics\n",
    "import os\n",
    "import pickle"
   ]
  },
  {
   "cell_type": "markdown",
   "metadata": {},
   "source": [
    "# Get league data"
   ]
  },
  {
   "cell_type": "markdown",
   "metadata": {},
   "source": [
    "To get league ID: Fantasy -> Leagues and Cups -> select your league\n",
    "\n",
    "league_id = numbers before \"/standings/\" in the URL\n",
    "\n",
    "ie: for my league, the URL is https://fantasy.premierleague.com/leagues/736795/standings/c, so my league ID would be \"780695\"."
   ]
  },
  {
   "cell_type": "code",
   "execution_count": 14,
   "metadata": {},
   "outputs": [],
   "source": [
    "def save_league_data(league_id):\n",
    "    '''\n",
    "    Function to save Fantasy Premier League data for a specific league.\n",
    "    \n",
    "    Parameters:\n",
    "    - league_id: The ID of the league to fetch data for.\n",
    "    \n",
    "    The function fetches the league data from the FPL API and saves it as a JSON file in a directory named \"league_<league_id>\".\n",
    "    '''\n",
    "        \n",
    "    league_id = str(league_id)\n",
    "\n",
    "    # create main and save_dir\n",
    "    main_dir = f\"league_{league_id}\"\n",
    "    if not os.path.exists(main_dir):\n",
    "        os.makedirs(main_dir)\n",
    "\n",
    "    save_dir = f\"league_{league_id}/league_data\"\n",
    "    if not os.path.exists(save_dir):\n",
    "        os.makedirs(save_dir)\n",
    "\n",
    "    # fetch league data from API using this URL\n",
    "    # to get league ID: Fantasy -> Leagues and Cups -> {your_league}...\n",
    "    # league_id = numbers before \"/standings/\" in the URL\n",
    "    url = f\"https://fantasy.premierleague.com/api/leagues-classic/{league_id}/standings/\"\n",
    "    \n",
    "    # send a GET request to the URL\n",
    "    response = requests.get(url)\n",
    "    \n",
    "    # check if the request was successful\n",
    "    if response.status_code == 200:\n",
    "        data = response.json()\n",
    "\n",
    "        # set the filename with league_id \n",
    "        file_name = f\"{save_dir}/league_{league_id}_data.json\"\n",
    "        \n",
    "        # Write the JSON data to a file\n",
    "        with open(file_name, 'w') as file:\n",
    "            json.dump(data, file, indent=4)\n",
    "        \n",
    "        print(f\"Data saved successfully in {file_name}\")\n",
    "    else:\n",
    "        print(f\"Failed to fetch data: HTTP {response.status_code}\")"
   ]
  },
  {
   "cell_type": "markdown",
   "metadata": {},
   "source": [
    "This function will make a new folder for all of your league's data! The name of this folder will be *league_{league_id}*. All subsequent data and output will be saved to this folder. "
   ]
  },
  {
   "cell_type": "code",
   "execution_count": 15,
   "metadata": {},
   "outputs": [
    {
     "name": "stdout",
     "output_type": "stream",
     "text": [
      "Data saved successfully in league_780695/league_data/league_780695_data.json\n"
     ]
    }
   ],
   "source": [
    "# Example usage\n",
    "league_id = '780695' ## CHANGE ME to your league's ID \n",
    "save_league_data(league_id)"
   ]
  },
  {
   "cell_type": "markdown",
   "metadata": {},
   "source": [
    "# Get user data from league"
   ]
  },
  {
   "cell_type": "code",
   "execution_count": 16,
   "metadata": {},
   "outputs": [],
   "source": [
    "def get_users(league_id):\n",
    "    f = open(f'league_{league_id}/league_data/league_{league_id}_data.json')\n",
    "    \n",
    "    # returns JSON object as a dictionary\n",
    "    data = json.load(f)\n",
    "\n",
    "    # Extract results\n",
    "    # results = data['new_entries']['results'] # for start of league\n",
    "    results = data['standings']['results'] # after the 1st GW\n",
    "\n",
    "    # List of user IDs\n",
    "    user_ids = [result['entry'] for result in results]\n",
    "    print(\"List of user_ids:\", user_ids)\n",
    "\n",
    "    # Dictionary mapping entry to player name\n",
    "    # entry_to_player = {result['entry']: result['player_first_name'] +\" \"+ result['player_last_name'] for result in results} # b4/during 1st GW\n",
    "    entry_to_player = {result['entry']: result['player_name'] for result in results} # after the 1st GW\n",
    "    print(\"Entry to Player Name Mapping:\", entry_to_player)\n",
    "\n",
    "    # Specify the file path\n",
    "    pickle_file_path = f\"league_{league_id}/league_data/league_{league_id}_entry_to_player_dict.pickle\"\n",
    "\n",
    "    # Save the dictionary as a pickle file\n",
    "    with open(pickle_file_path, 'wb') as file:\n",
    "        pickle.dump(entry_to_player, file)\n",
    "\n",
    "    print(f\"Entry to Player Mapping dictionary saved successfully as {pickle_file_path}\")\n"
   ]
  },
  {
   "cell_type": "markdown",
   "metadata": {},
   "source": [
    "This function will save a dictionary mapping of user name -> user ID, in pickle format. "
   ]
  },
  {
   "cell_type": "code",
   "execution_count": 17,
   "metadata": {},
   "outputs": [
    {
     "name": "stdout",
     "output_type": "stream",
     "text": [
      "List of user_ids: [3736356, 7296084, 5716768, 4040748, 5534893, 3771330, 2073867, 2581654, 3299662, 3321209, 3190565, 754678, 6190785, 5682456, 3950036, 8439351, 1104743, 1662216, 6184318, 7263639, 4101297]\n",
      "Entry to Player Name Mapping: {3736356: 'Brady Gardner', 7296084: 'Shaan Nerurkar', 5716768: 'Marc Mays', 4040748: 'Brian Gardner', 5534893: 'Cole Mays', 3771330: 'Seamus Meagher', 2073867: 'Ethan Wilt', 2581654: 'Shubh Parekh', 3299662: 'Luka Pappas', 3321209: 'Cam Morse', 3190565: 'Harry Rohlfing', 754678: 'Gabe Fajardo', 6190785: 'Harrison Savage', 5682456: 'Aidan Trip', 3950036: 'Jay Mehta', 8439351: 'Ben Brennan', 1104743: 'William Sedgley', 1662216: 'tom sedgley', 6184318: 'Jacques Hughes', 7263639: 'Jehan Mody', 4101297: 'Matt Buller'}\n",
      "Entry to Player Mapping dictionary saved successfully as league_780695/league_data/league_780695_entry_to_player_dict.pickle\n"
     ]
    }
   ],
   "source": [
    "# Example usage\n",
    "get_users(league_id)"
   ]
  },
  {
   "cell_type": "markdown",
   "metadata": {},
   "source": [
    "# Get GW history for each user in the league (standings across time)"
   ]
  },
  {
   "cell_type": "code",
   "execution_count": 18,
   "metadata": {},
   "outputs": [],
   "source": [
    "def fetch_and_save_history(entry_to_player_mapping):\n",
    "\n",
    "    # create the save directory\n",
    "    save_dir = f\"league_{league_id}/user_data\"\n",
    "    if not os.path.exists(save_dir):\n",
    "        os.makedirs(save_dir)\n",
    "\n",
    "    # fetch the history data for each player\n",
    "    for entry, player_name in entry_to_player_mapping.items():\n",
    "        url = f\"https://fantasy.premierleague.com/api/entry/{entry}/history/\"\n",
    "        response = requests.get(url)\n",
    "        if response.status_code == 200:\n",
    "            data = response.json()\n",
    "            file_name = f\"{save_dir}/{player_name.replace(' ', '_')}_{entry}_history.json\"\n",
    "            with open(file_name, 'w') as file:\n",
    "                json.dump(data, file, indent=4)\n",
    "            print(f\"Data saved for {player_name} as {file_name}\")\n",
    "        else:\n",
    "            print(f\"FAILED to fetch data for {player_name} (entry {entry}), \\nstatus code: {response.status_code}\")\n",
    "\n",
    "def get_gw_history_df(league_id, entry_to_player_mapping, save_dir=f'league_{league_id}/league_data/league_{league_id}_gw_history_df.csv'):\n",
    "    user_data_dir = f\"league_{league_id}/user_data\"\n",
    "\n",
    "    # first, get the number of current gameweeks\n",
    "    N_GWs = []\n",
    "\n",
    "    for entry, player_name in entry_to_player_mapping.items():\n",
    "        file_name = f\"{user_data_dir}/{player_name.replace(' ', '_')}_{entry}_history.json\"\n",
    "        with open(file_name) as file:\n",
    "            data = json.load(file)\n",
    "        history = data['current']\n",
    "        N_GWs.append(len(history))\n",
    "\n",
    "    # get the total number of current GWs (using mode, or can do max)\n",
    "    N_GWs = statistics.mode(N_GWs)\n",
    "\n",
    "    # create blank df with gws\n",
    "    gws = [f'GW{gw}' for gw in range(1,N_GWs+1)]\n",
    "\n",
    "    gw_history_df = pd.DataFrame(columns=['GW'])\n",
    "    gw_history_df['GW'] = gws\n",
    "\n",
    "    # create the GW scoring history table\n",
    "    for entry, player_name in entry_to_player_mapping.items():\n",
    "        file_name = f\"{user_data_dir}/{player_name.replace(' ', '_')}_{entry}_history.json\"\n",
    "        with open(file_name) as file:\n",
    "            data = json.load(file)\n",
    "\n",
    "        history = data['current']\n",
    "\n",
    "        cum_points = 0\n",
    "        tot_points = []\n",
    "        for game in history:\n",
    "            points = game['points']\n",
    "            cum_points += points\n",
    "            tot_points.append(cum_points)\n",
    "        \n",
    "        # if a player joined late... change their name + ooints for select GWs\n",
    "        # Jacques missed GW 1! ... adjust for num points he got (84)\n",
    "        # if player_name == 'Jacques Hughes':\n",
    "        #     tot_points.insert(0, 84)\n",
    "        \n",
    "        # add cumulative sum of GWs for each player to df\n",
    "        # this is the format for the bar_chart_race!\n",
    "        gw_history_df[player_name] = tot_points\n",
    "    \n",
    "    # save the df\n",
    "    gw_history_df.to_csv(save_dir, index=False)"
   ]
  },
  {
   "cell_type": "markdown",
   "metadata": {},
   "source": [
    "The ```fetch_and_save_history``` function will save each individual users data across time to the *league_{league_id}/user_data* folder. "
   ]
  },
  {
   "cell_type": "code",
   "execution_count": 19,
   "metadata": {},
   "outputs": [
    {
     "name": "stdout",
     "output_type": "stream",
     "text": [
      "Data saved for Brady Gardner as league_780695/user_data/Brady_Gardner_3736356_history.json\n",
      "Data saved for Shaan Nerurkar as league_780695/user_data/Shaan_Nerurkar_7296084_history.json\n",
      "Data saved for Marc Mays as league_780695/user_data/Marc_Mays_5716768_history.json\n",
      "Data saved for Brian Gardner as league_780695/user_data/Brian_Gardner_4040748_history.json\n",
      "Data saved for Cole Mays as league_780695/user_data/Cole_Mays_5534893_history.json\n",
      "Data saved for Seamus Meagher as league_780695/user_data/Seamus_Meagher_3771330_history.json\n",
      "Data saved for Ethan Wilt as league_780695/user_data/Ethan_Wilt_2073867_history.json\n",
      "Data saved for Shubh Parekh as league_780695/user_data/Shubh_Parekh_2581654_history.json\n",
      "Data saved for Luka Pappas as league_780695/user_data/Luka_Pappas_3299662_history.json\n",
      "Data saved for Cam Morse as league_780695/user_data/Cam_Morse_3321209_history.json\n",
      "Data saved for Harry Rohlfing as league_780695/user_data/Harry_Rohlfing_3190565_history.json\n",
      "Data saved for Gabe Fajardo as league_780695/user_data/Gabe_Fajardo_754678_history.json\n",
      "Data saved for Harrison Savage as league_780695/user_data/Harrison_Savage_6190785_history.json\n",
      "Data saved for Aidan Trip as league_780695/user_data/Aidan_Trip_5682456_history.json\n",
      "Data saved for Jay Mehta as league_780695/user_data/Jay_Mehta_3950036_history.json\n",
      "Data saved for Ben Brennan as league_780695/user_data/Ben_Brennan_8439351_history.json\n",
      "Data saved for William Sedgley as league_780695/user_data/William_Sedgley_1104743_history.json\n",
      "Data saved for tom sedgley as league_780695/user_data/tom_sedgley_1662216_history.json\n",
      "Data saved for Jacques Hughes as league_780695/user_data/Jacques_Hughes_6184318_history.json\n",
      "Data saved for Jehan Mody as league_780695/user_data/Jehan_Mody_7263639_history.json\n",
      "Data saved for Matt Buller as league_780695/user_data/Matt_Buller_4101297_history.json\n"
     ]
    }
   ],
   "source": [
    "# load the Entry to Player Mapping dictionary\n",
    "with open(rf\"league_{league_id}/league_data/league_{league_id}_entry_to_player_dict.pickle\", \"rb\") as entry_to_player_mapping:\n",
    "    entry_to_player_mapping = pickle.load(entry_to_player_mapping)\n",
    "\n",
    "fetch_and_save_history(entry_to_player_mapping) "
   ]
  },
  {
   "cell_type": "markdown",
   "metadata": {},
   "source": [
    "The ```get_gw_history_df``` function will make a df of this user history data. It will be saved to the *league_{league_id}* folder. "
   ]
  },
  {
   "cell_type": "code",
   "execution_count": 20,
   "metadata": {},
   "outputs": [],
   "source": [
    "get_gw_history_df(league_id, entry_to_player_mapping)"
   ]
  },
  {
   "cell_type": "code",
   "execution_count": null,
   "metadata": {},
   "outputs": [],
   "source": []
  }
 ],
 "metadata": {
  "kernelspec": {
   "display_name": "base",
   "language": "python",
   "name": "python3"
  },
  "language_info": {
   "codemirror_mode": {
    "name": "ipython",
    "version": 3
   },
   "file_extension": ".py",
   "mimetype": "text/x-python",
   "name": "python",
   "nbconvert_exporter": "python",
   "pygments_lexer": "ipython3",
   "version": "3.11.4"
  }
 },
 "nbformat": 4,
 "nbformat_minor": 2
}
